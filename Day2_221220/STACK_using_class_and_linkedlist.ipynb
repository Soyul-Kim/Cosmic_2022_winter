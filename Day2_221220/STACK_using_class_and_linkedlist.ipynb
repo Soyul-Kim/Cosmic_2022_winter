{
 "cells": [
  {
   "cell_type": "code",
   "execution_count": null,
   "metadata": {},
   "outputs": [],
   "source": [
    "#스택\n",
    "#클래스\n",
    "#연결리스트\n",
    "\n",
    "ca"
   ]
  }
 ],
 "metadata": {
  "kernelspec": {
   "display_name": "Python 3",
   "language": "python",
   "name": "python3"
  },
  "language_info": {
   "name": "python",
   "version": "3.10.7 (tags/v3.10.7:6cc6b13, Sep  5 2022, 14:08:36) [MSC v.1933 64 bit (AMD64)]"
  },
  "orig_nbformat": 4,
  "vscode": {
   "interpreter": {
    "hash": "7b9977a7fcf05d15ea55c44024ca5647c2135ed1f15ccadd8c6cade904fe3833"
   }
  }
 },
 "nbformat": 4,
 "nbformat_minor": 2
}
