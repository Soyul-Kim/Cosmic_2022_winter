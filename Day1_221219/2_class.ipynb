{
 "cells": [
  {
   "cell_type": "code",
   "execution_count": 3,
   "metadata": {},
   "outputs": [],
   "source": [
    "class chicken:\n",
    "    brand=\"\"\n",
    "    menu=\"\"\n",
    "    price=0\n",
    "\n",
    "    def __init__(self, brand, menu, price):\n",
    "        self.brand=brand\n",
    "        self.menu=menu\n",
    "        self.price=price\n",
    "\n",
    "    def what(self):\n",
    "        print(self.brand, \">> 치킨 브랜드\")\n",
    "        print(self.menu, \">> 메뉴 이름\")\n",
    "        print(self.price, \">> 치킨 가격\")"
   ]
  },
  {
   "cell_type": "code",
   "execution_count": 4,
   "metadata": {},
   "outputs": [
    {
     "name": "stdout",
     "output_type": "stream",
     "text": [
      "BHC >> 치킨 브랜드\n",
      "황금올리브 >> 메뉴 이름\n",
      "20000 >> 치킨 가격\n"
     ]
    }
   ],
   "source": [
    "chicken1=chicken(\"BHC\", \"황금올리브\", 20000)\n",
    "\n",
    "chicken1.what()"
   ]
  }
 ],
 "metadata": {
  "kernelspec": {
   "display_name": "base",
   "language": "python",
   "name": "python3"
  },
  "language_info": {
   "codemirror_mode": {
    "name": "ipython",
    "version": 3
   },
   "file_extension": ".py",
   "mimetype": "text/x-python",
   "name": "python",
   "nbconvert_exporter": "python",
   "pygments_lexer": "ipython3",
   "version": "3.9.13 (main, Aug 25 2022, 23:51:50) [MSC v.1916 64 bit (AMD64)]"
  },
  "orig_nbformat": 4,
  "vscode": {
   "interpreter": {
    "hash": "d7288e82646d3164eca24130947288f8779d11454649f2c02a5dfc42af7f324c"
   }
  }
 },
 "nbformat": 4,
 "nbformat_minor": 2
}
