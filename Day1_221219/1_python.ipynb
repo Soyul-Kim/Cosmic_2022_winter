{
 "cells": [
  {
   "cell_type": "code",
   "execution_count": 1,
   "metadata": {},
   "outputs": [
    {
     "name": "stdout",
     "output_type": "stream",
     "text": [
      "1\n",
      "3\n",
      "5\n",
      "7\n",
      "9\n"
     ]
    }
   ],
   "source": [
    "#아무 리스트를 만들고 짝수번째 요소만 출력해보기\n",
    "\n",
    "a=[1,2,3,4,5,6,7,8,9,10]\n",
    "\n",
    "for i in range(len(a)):\n",
    "    if i%2==0:\n",
    "        print(a[i]) #if 사용해보기"
   ]
  },
  {
   "cell_type": "code",
   "execution_count": 1,
   "metadata": {},
   "outputs": [
    {
     "name": "stdout",
     "output_type": "stream",
     "text": [
      "abc_def_ghi_j\n"
     ]
    }
   ],
   "source": [
    "#아무 문자열에 3칸 단위로 공백을 추가하기\n",
    "\n",
    "n=\"abcdefghij\"\n",
    "\n",
    "blank=\"_\"\n",
    "\n",
    "result=\"\" #빈 문자열에 추가하는 형식 사용하기\n",
    "\n",
    "\n",
    "for i in range(len(n)):\n",
    "    if i%3==0:\n",
    "        result=result+n[i:i+3]+blank\n",
    "\n",
    "print(result[0:-1])"
   ]
  },
  {
   "cell_type": "code",
   "execution_count": 74,
   "metadata": {},
   "outputs": [
    {
     "name": "stdout",
     "output_type": "stream",
     "text": [
      "[2, 3, 5, 7, 11, 13, 17, 19, 23, 29, 31, 37, 41, 43, 47, 53, 59, 61, 67, 71, 73, 79, 83, 89, 97]\n"
     ]
    }
   ],
   "source": [
    "#빈 리스트에 소수(100까지) 추가해보기\n",
    "\n",
    "prime=[]\n",
    "\n",
    "flag=0\n",
    "\n",
    "for i in range(2,101): #약수 1과 자기 자신만을 가짐.\n",
    "    flag=0\n",
    "    for j in range(2,i):\n",
    "        if i%j==0:\n",
    "            flag=1\n",
    "            break\n",
    "            \n",
    "    if flag==0:\n",
    "        prime.append(i)\n",
    "\n",
    "    \n",
    "\n",
    "print(prime)"
   ]
  },
  {
   "cell_type": "code",
   "execution_count": 6,
   "metadata": {},
   "outputs": [
    {
     "name": "stdout",
     "output_type": "stream",
     "text": [
      "[2, 3, 5, 7, 11, 13, 17, 19, 23, 29, 31, 37, 41, 43, 47, 53, 59, 61, 67, 71, 73, 79, 83, 89, 97]\n"
     ]
    }
   ],
   "source": [
    "#소수 => 함수화\n",
    "\n",
    "def primeNumber(n):\n",
    "    prime=[]\n",
    "\n",
    "    flag=0\n",
    "\n",
    "    for i in range(2,n+1): #약수 1과 자기 자신만을 가짐.\n",
    "        flag=0\n",
    "        for j in range(2,i):\n",
    "            if i%j==0:\n",
    "                flag=1\n",
    "                break\n",
    "                \n",
    "        if flag==0:\n",
    "            prime.append(i)\n",
    "\n",
    "    return prime\n",
    "\n",
    "my_list=primeNumber(100)\n",
    "\n",
    "print(my_list)"
   ]
  },
  {
   "cell_type": "code",
   "execution_count": 11,
   "metadata": {},
   "outputs": [
    {
     "name": "stdout",
     "output_type": "stream",
     "text": [
      "뽀삐\n"
     ]
    }
   ],
   "source": [
    "dog={\n",
    "    'name':['뽀삐', '초코', '개죽이'], \n",
    "    'species':['말티즈', '푸들', '진돗개'], \n",
    "    'weight':['5kg', '3kg', '14kg'],\n",
    "    'age':['3 yrs old', '5 yrs old', '2 yrs old']\n",
    "    }\n",
    "\n",
    "print(dog['name'][0])"
   ]
  },
  {
   "cell_type": "code",
   "execution_count": 16,
   "metadata": {},
   "outputs": [
    {
     "name": "stdout",
     "output_type": "stream",
     "text": [
      "['뽀삐', '말티즈', 3, 12345]\n"
     ]
    }
   ],
   "source": [
    "dog1=[\"뽀삐\", \"말티즈\", 5, 12345]\n",
    "\n",
    "def diet(dog, n):\n",
    "    dog[2]-=n #dog[2]=dog[2]-n\n",
    "\n",
    "diet(dog1, 2)\n",
    "print(dog1)\n"
   ]
  },
  {
   "cell_type": "code",
   "execution_count": 36,
   "metadata": {},
   "outputs": [],
   "source": [
    "#클래스\n",
    "\n",
    "class dog:\n",
    "    name=\"\"\n",
    "    age=0\n",
    "    species=\"\"\n",
    "    attack=0\n",
    "\n",
    "    #생성자 함수\n",
    "    def __init__(self, age, name, species, attack): #self는 class가 아니라 instance 자기 자신을 의미함.\n",
    "        self.name=name\n",
    "        self.age=age\n",
    "        self.species=species\n",
    "        self.attack=attack\n",
    "\n",
    "    # def setting(self, age, name, species, attack): #self는 class가 아니라 instance 자기 자신을 의미함.\n",
    "    #     self.name=name\n",
    "    #     self.age=age\n",
    "    #     self.species=species\n",
    "    #     self.attack=attack\n",
    "    ###init에 들어가###\n",
    "    \n",
    "    def what(self):\n",
    "        print(self.name, \">> 강아지 이름\")\n",
    "        print(self.age, \">> 강아지 나이\")\n",
    "        print(self.species, \">> 강아지 종류\")\n",
    "        print(self.attack, \">> 강아지 공격성\")\n",
    "\n"
   ]
  },
  {
   "cell_type": "code",
   "execution_count": 37,
   "metadata": {},
   "outputs": [
    {
     "name": "stdout",
     "output_type": "stream",
     "text": [
      "뽀삐 >> 강아지 이름\n",
      "10 >> 강아지 나이\n",
      "말티즈 >> 강아지 종류\n",
      "200 >> 강아지 공격성\n"
     ]
    }
   ],
   "source": [
    "dog1=dog(10, \"뽀삐\", \"말티즈\", 200) #init 덕분에 가능\n",
    "dog1 #instance = 메모리에 올라간 클래스\n",
    "\n",
    "#setting 함수 사용하기\n",
    "# dog1.setting(10, \"뽀삐\", \"말티즈\", 200) #init 있어서 필요없어\n",
    "\n",
    "#잘 들어갔나 확인 => 출력? => 출력도 함수 사용해서 해야 함 #dog1.name(X)\n",
    "dog1.what()\n"
   ]
  },
  {
   "cell_type": "code",
   "execution_count": 21,
   "metadata": {},
   "outputs": [],
   "source": [
    "dog1.name=\"뽀삐\"\n",
    "dog1.age=19\n",
    "dog1.species=\"말티즈\"\n",
    "dog1.attack=12394\n",
    "\n",
    "#이렇게 바로 접근해서 값을 바꾸면 안돼. 절차지향이랑 다를 바 없음. class 안에 setting이라는 함수 만들기."
   ]
  },
  {
   "cell_type": "code",
   "execution_count": 23,
   "metadata": {},
   "outputs": [
    {
     "data": {
      "text/plain": [
       "<__main__.dog at 0x1f001a0a8b0>"
      ]
     },
     "execution_count": 23,
     "metadata": {},
     "output_type": "execute_result"
    }
   ],
   "source": [
    "dog1"
   ]
  },
  {
   "cell_type": "code",
   "execution_count": 33,
   "metadata": {},
   "outputs": [
    {
     "data": {
      "text/plain": [
       "'말티즈'"
      ]
     },
     "execution_count": 33,
     "metadata": {},
     "output_type": "execute_result"
    }
   ],
   "source": [
    "dog1.age\n",
    "dog1.name\n",
    "dog1.attack\n",
    "dog1.species"
   ]
  },
  {
   "cell_type": "code",
   "execution_count": 42,
   "metadata": {},
   "outputs": [],
   "source": [
    "#dog2=dog() #클래스의 이름은 곧 생성자 #생성자라는 함수\n",
    "\n",
    "my_list=list([4,3,4]) #리스트 클래스 생성자"
   ]
  },
  {
   "cell_type": "code",
   "execution_count": 43,
   "metadata": {},
   "outputs": [
    {
     "data": {
      "text/plain": [
       "[4, 3, 4]"
      ]
     },
     "execution_count": 43,
     "metadata": {},
     "output_type": "execute_result"
    }
   ],
   "source": [
    "my_list"
   ]
  },
  {
   "cell_type": "code",
   "execution_count": null,
   "metadata": {},
   "outputs": [],
   "source": []
  }
 ],
 "metadata": {
  "kernelspec": {
   "display_name": "base",
   "language": "python",
   "name": "python3"
  },
  "language_info": {
   "codemirror_mode": {
    "name": "ipython",
    "version": 3
   },
   "file_extension": ".py",
   "mimetype": "text/x-python",
   "name": "python",
   "nbconvert_exporter": "python",
   "pygments_lexer": "ipython3",
   "version": "3.9.13"
  },
  "orig_nbformat": 4,
  "vscode": {
   "interpreter": {
    "hash": "d7288e82646d3164eca24130947288f8779d11454649f2c02a5dfc42af7f324c"
   }
  }
 },
 "nbformat": 4,
 "nbformat_minor": 2
}
